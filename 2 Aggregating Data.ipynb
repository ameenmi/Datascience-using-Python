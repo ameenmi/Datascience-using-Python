{
 "cells": [
  {
   "cell_type": "code",
   "execution_count": 1,
   "metadata": {},
   "outputs": [],
   "source": [
    "import pandas as pd\n",
    "dogs = pd.read_csv('dogs.csv')"
   ]
  },
  {
   "cell_type": "markdown",
   "metadata": {},
   "source": [
    "## Summarizing numerical data"
   ]
  },
  {
   "cell_type": "code",
   "execution_count": 2,
   "metadata": {},
   "outputs": [
    {
     "data": {
      "text/plain": [
       "49.714285714285715"
      ]
     },
     "execution_count": 2,
     "metadata": {},
     "output_type": "execute_result"
    }
   ],
   "source": [
    "dogs[\"height_cm\"].mean()"
   ]
  },
  {
   "cell_type": "code",
   "execution_count": 3,
   "metadata": {},
   "outputs": [
    {
     "data": {
      "text/plain": [
       "49.0"
      ]
     },
     "execution_count": 3,
     "metadata": {},
     "output_type": "execute_result"
    }
   ],
   "source": [
    "dogs[\"height_cm\"].median()"
   ]
  },
  {
   "cell_type": "code",
   "execution_count": 4,
   "metadata": {},
   "outputs": [
    {
     "data": {
      "text/plain": [
       "0    18\n",
       "1    43\n",
       "2    46\n",
       "3    49\n",
       "4    56\n",
       "5    59\n",
       "6    77\n",
       "dtype: int64"
      ]
     },
     "execution_count": 4,
     "metadata": {},
     "output_type": "execute_result"
    }
   ],
   "source": [
    "dogs[\"height_cm\"].mode()"
   ]
  },
  {
   "cell_type": "markdown",
   "metadata": {},
   "source": [
    "## Summarizing dates"
   ]
  },
  {
   "cell_type": "code",
   "execution_count": 5,
   "metadata": {},
   "outputs": [
    {
     "data": {
      "text/plain": [
       "'2011-12-11'"
      ]
     },
     "execution_count": 5,
     "metadata": {},
     "output_type": "execute_result"
    }
   ],
   "source": [
    "dogs[\"date_of_birth\"].min()"
   ]
  },
  {
   "cell_type": "code",
   "execution_count": 6,
   "metadata": {},
   "outputs": [
    {
     "data": {
      "text/plain": [
       "'2018-02-27'"
      ]
     },
     "execution_count": 6,
     "metadata": {},
     "output_type": "execute_result"
    }
   ],
   "source": [
    "dogs[\"date_of_birth\"].max()"
   ]
  },
  {
   "cell_type": "markdown",
   "metadata": {},
   "source": [
    "## The .agg() method"
   ]
  },
  {
   "cell_type": "code",
   "execution_count": 7,
   "metadata": {},
   "outputs": [],
   "source": [
    "def pct30(column):\n",
    "    return column.quantile(0.3)"
   ]
  },
  {
   "cell_type": "code",
   "execution_count": 8,
   "metadata": {},
   "outputs": [
    {
     "data": {
      "text/plain": [
       "20.999999999999996"
      ]
     },
     "execution_count": 8,
     "metadata": {},
     "output_type": "execute_result"
    }
   ],
   "source": [
    "dogs[\"weight_kg\"].agg(pct30)"
   ]
  },
  {
   "cell_type": "markdown",
   "metadata": {},
   "source": [
    "## Summaries on multiple columns"
   ]
  },
  {
   "cell_type": "code",
   "execution_count": 9,
   "metadata": {},
   "outputs": [
    {
     "data": {
      "text/plain": [
       "weight_kg    21.0\n",
       "height_cm    45.4\n",
       "dtype: float64"
      ]
     },
     "execution_count": 9,
     "metadata": {},
     "output_type": "execute_result"
    }
   ],
   "source": [
    "dogs[[\"weight_kg\", \"height_cm\"]].agg(pct30)"
   ]
  },
  {
   "cell_type": "markdown",
   "metadata": {},
   "source": [
    "## Multiple summaries"
   ]
  },
  {
   "cell_type": "code",
   "execution_count": 10,
   "metadata": {},
   "outputs": [],
   "source": [
    "def pct40(column):\n",
    "    return column.quantile(0.4)"
   ]
  },
  {
   "cell_type": "code",
   "execution_count": 11,
   "metadata": {},
   "outputs": [
    {
     "data": {
      "text/plain": [
       "pct30    21.0\n",
       "pct40    22.4\n",
       "Name: weight_kg, dtype: float64"
      ]
     },
     "execution_count": 11,
     "metadata": {},
     "output_type": "execute_result"
    }
   ],
   "source": [
    "dogs[\"weight_kg\"].agg([pct30, pct40])"
   ]
  },
  {
   "cell_type": "markdown",
   "metadata": {},
   "source": [
    "## Cumulative sum"
   ]
  },
  {
   "cell_type": "code",
   "execution_count": 12,
   "metadata": {},
   "outputs": [
    {
     "data": {
      "text/plain": [
       "0    56\n",
       "1    43\n",
       "2    46\n",
       "3    49\n",
       "4    59\n",
       "5    18\n",
       "6    77\n",
       "Name: height_cm, dtype: int64"
      ]
     },
     "execution_count": 12,
     "metadata": {},
     "output_type": "execute_result"
    }
   ],
   "source": [
    "dogs[\"height_cm\"]"
   ]
  },
  {
   "cell_type": "code",
   "execution_count": 13,
   "metadata": {},
   "outputs": [
    {
     "data": {
      "text/plain": [
       "0     56\n",
       "1     99\n",
       "2    145\n",
       "3    194\n",
       "4    253\n",
       "5    271\n",
       "6    348\n",
       "Name: height_cm, dtype: int64"
      ]
     },
     "execution_count": 13,
     "metadata": {},
     "output_type": "execute_result"
    }
   ],
   "source": [
    "dogs[\"height_cm\"].cumsum()"
   ]
  },
  {
   "cell_type": "markdown",
   "metadata": {},
   "source": [
    "## Cumulative statistics"
   ]
  },
  {
   "cell_type": "markdown",
   "metadata": {},
   "source": [
    "- .cummax()\n",
    "- .cummin()\n",
    "- .cumprod()"
   ]
  },
  {
   "cell_type": "markdown",
   "metadata": {},
   "source": [
    "## Mean and median\n",
    "\n",
    "Summary statistics are exactly what they sound like - they summarize many numbers in one statistic. For example, mean, median, minimum, maximum, and standard deviation are summary statistics. Calculating summary statistics allows you to get a better sense of your data, even if there's a lot of it.\n",
    "\n",
    "sales is available and pandas is loaded as pd.\n",
    "\n",
    "### Instructions\n",
    "- Explore your new DataFrame first by printing the first few rows of the sales DataFrame.\n",
    "- Print information about the columns in sales.\n",
    "- Print the mean of the weekly_sales column.\n",
    "- Print the median of the weekly_sales column."
   ]
  },
  {
   "cell_type": "code",
   "execution_count": 14,
   "metadata": {},
   "outputs": [],
   "source": [
    "import pickle\n",
    "\n",
    "with open('walmart_sales.pkl', 'rb') as f:\n",
    "    data = pickle.load(f)"
   ]
  },
  {
   "cell_type": "code",
   "execution_count": 15,
   "metadata": {},
   "outputs": [
    {
     "data": {
      "text/html": [
       "<div>\n",
       "<style scoped>\n",
       "    .dataframe tbody tr th:only-of-type {\n",
       "        vertical-align: middle;\n",
       "    }\n",
       "\n",
       "    .dataframe tbody tr th {\n",
       "        vertical-align: top;\n",
       "    }\n",
       "\n",
       "    .dataframe thead th {\n",
       "        text-align: right;\n",
       "    }\n",
       "</style>\n",
       "<table border=\"1\" class=\"dataframe\">\n",
       "  <thead>\n",
       "    <tr style=\"text-align: right;\">\n",
       "      <th></th>\n",
       "      <th>store</th>\n",
       "      <th>type</th>\n",
       "      <th>department</th>\n",
       "      <th>date</th>\n",
       "      <th>weekly_sales</th>\n",
       "      <th>is_holiday</th>\n",
       "      <th>temperature_c</th>\n",
       "      <th>fuel_price_usd_per_l</th>\n",
       "      <th>unemployment</th>\n",
       "    </tr>\n",
       "  </thead>\n",
       "  <tbody>\n",
       "    <tr>\n",
       "      <th>0</th>\n",
       "      <td>1</td>\n",
       "      <td>A</td>\n",
       "      <td>1</td>\n",
       "      <td>2010-02-05</td>\n",
       "      <td>24924.50</td>\n",
       "      <td>False</td>\n",
       "      <td>5.727778</td>\n",
       "      <td>0.679451</td>\n",
       "      <td>8.106</td>\n",
       "    </tr>\n",
       "    <tr>\n",
       "      <th>1</th>\n",
       "      <td>1</td>\n",
       "      <td>A</td>\n",
       "      <td>2</td>\n",
       "      <td>2010-02-05</td>\n",
       "      <td>50605.27</td>\n",
       "      <td>False</td>\n",
       "      <td>5.727778</td>\n",
       "      <td>0.679451</td>\n",
       "      <td>8.106</td>\n",
       "    </tr>\n",
       "    <tr>\n",
       "      <th>2</th>\n",
       "      <td>1</td>\n",
       "      <td>A</td>\n",
       "      <td>3</td>\n",
       "      <td>2010-02-05</td>\n",
       "      <td>13740.12</td>\n",
       "      <td>False</td>\n",
       "      <td>5.727778</td>\n",
       "      <td>0.679451</td>\n",
       "      <td>8.106</td>\n",
       "    </tr>\n",
       "    <tr>\n",
       "      <th>3</th>\n",
       "      <td>1</td>\n",
       "      <td>A</td>\n",
       "      <td>4</td>\n",
       "      <td>2010-02-05</td>\n",
       "      <td>39954.04</td>\n",
       "      <td>False</td>\n",
       "      <td>5.727778</td>\n",
       "      <td>0.679451</td>\n",
       "      <td>8.106</td>\n",
       "    </tr>\n",
       "    <tr>\n",
       "      <th>4</th>\n",
       "      <td>1</td>\n",
       "      <td>A</td>\n",
       "      <td>5</td>\n",
       "      <td>2010-02-05</td>\n",
       "      <td>32229.38</td>\n",
       "      <td>False</td>\n",
       "      <td>5.727778</td>\n",
       "      <td>0.679451</td>\n",
       "      <td>8.106</td>\n",
       "    </tr>\n",
       "  </tbody>\n",
       "</table>\n",
       "</div>"
      ],
      "text/plain": [
       "   store type  department       date  weekly_sales  is_holiday  temperature_c  \\\n",
       "0      1    A           1 2010-02-05      24924.50       False       5.727778   \n",
       "1      1    A           2 2010-02-05      50605.27       False       5.727778   \n",
       "2      1    A           3 2010-02-05      13740.12       False       5.727778   \n",
       "3      1    A           4 2010-02-05      39954.04       False       5.727778   \n",
       "4      1    A           5 2010-02-05      32229.38       False       5.727778   \n",
       "\n",
       "   fuel_price_usd_per_l  unemployment  \n",
       "0              0.679451         8.106  \n",
       "1              0.679451         8.106  \n",
       "2              0.679451         8.106  \n",
       "3              0.679451         8.106  \n",
       "4              0.679451         8.106  "
      ]
     },
     "execution_count": 15,
     "metadata": {},
     "output_type": "execute_result"
    }
   ],
   "source": [
    "data.head()"
   ]
  },
  {
   "cell_type": "code",
   "execution_count": 3,
   "metadata": {},
   "outputs": [],
   "source": [
    "sales = data.copy()"
   ]
  },
  {
   "cell_type": "code",
   "execution_count": 4,
   "metadata": {},
   "outputs": [
    {
     "name": "stdout",
     "output_type": "stream",
     "text": [
      "   store type  department       date  weekly_sales  is_holiday  temperature_c  \\\n",
      "0      1    A           1 2010-02-05      24924.50       False       5.727778   \n",
      "1      1    A           2 2010-02-05      50605.27       False       5.727778   \n",
      "2      1    A           3 2010-02-05      13740.12       False       5.727778   \n",
      "3      1    A           4 2010-02-05      39954.04       False       5.727778   \n",
      "4      1    A           5 2010-02-05      32229.38       False       5.727778   \n",
      "\n",
      "   fuel_price_usd_per_l  unemployment  \n",
      "0              0.679451         8.106  \n",
      "1              0.679451         8.106  \n",
      "2              0.679451         8.106  \n",
      "3              0.679451         8.106  \n",
      "4              0.679451         8.106  \n",
      "<class 'pandas.core.frame.DataFrame'>\n",
      "Int64Index: 413119 entries, 0 to 413118\n",
      "Data columns (total 9 columns):\n",
      "store                   413119 non-null int64\n",
      "type                    413119 non-null object\n",
      "department              413119 non-null int32\n",
      "date                    413119 non-null datetime64[ns]\n",
      "weekly_sales            413119 non-null float64\n",
      "is_holiday              413119 non-null bool\n",
      "temperature_c           413119 non-null float64\n",
      "fuel_price_usd_per_l    413119 non-null float64\n",
      "unemployment            413119 non-null float64\n",
      "dtypes: bool(1), datetime64[ns](1), float64(4), int32(1), int64(1), object(1)\n",
      "memory usage: 27.2+ MB\n",
      "None\n",
      "16094.726811185497\n",
      "7682.47\n"
     ]
    }
   ],
   "source": [
    "# Print the head of the sales DataFrame\n",
    "print(sales.head())\n",
    "\n",
    "# Print the info about the sales DataFrame\n",
    "print(sales.info())\n",
    "\n",
    "# Print the mean of weekly_sales\n",
    "print(sales[\"weekly_sales\"].mean())\n",
    "\n",
    "# Print the median of weekly_sales\n",
    "print(sales[\"weekly_sales\"].median())"
   ]
  },
  {
   "cell_type": "markdown",
   "metadata": {},
   "source": [
    "## Summarizing dates\n",
    "\n",
    "Summary statistics can also be calculated on date columns which have values with the data type datetime64. Some summary statistics — like mean — don't make a ton of sense on dates, but others are super helpful, for example minimum and maximum, which allow you to see what time range your data covers.\n",
    "\n",
    "sales is available and pandas is loaded as pd.\n",
    "\n",
    "### Instructions\n",
    "\n",
    "- Print the maximum of the date column.\n",
    "- Print the minimum of the date column."
   ]
  },
  {
   "cell_type": "code",
   "execution_count": 5,
   "metadata": {},
   "outputs": [
    {
     "name": "stdout",
     "output_type": "stream",
     "text": [
      "2012-10-26 00:00:00\n",
      "2010-02-05 00:00:00\n"
     ]
    }
   ],
   "source": [
    "# Print the maximum of the date column\n",
    "print(sales['date'].max())\n",
    "\n",
    "# Print the minimum of the date column\n",
    "print(sales['date'].min())"
   ]
  },
  {
   "cell_type": "markdown",
   "metadata": {},
   "source": [
    "## Efficient summaries\n",
    "\n",
    "While pandas and NumPy have tons of functions, sometimes you may need a different function to summarize your data.\n",
    "\n",
    "The .agg() method allows you to apply your own custom functions to a DataFrame, as well as apply functions to more than one column of a DataFrame at once, making your aggregations super efficient.\n",
    "\n",
    "In the custom function for this exercise, \"IQR\" is short for inter-quartile range, which is the 75th percentile minus the 25th percentile. It's an alternative to standard deviation that is helpful if your data contains outliers.\n",
    "\n",
    "sales is available and pandas is loaded as pd.\n",
    "\n",
    "### Instructions\n",
    "\n",
    "- Use the custom iqr function defined for you along with .agg() to print the IQR of the temperature_c column of sales.\n",
    "- Update the column selection to use the custom iqr function with .agg() to print the IQR of temperature_c, fuel_price_usd_per_l, and unemployment, in that order.\n",
    "- Update the aggregation functions called by .agg(): include iqr and np.median in that order."
   ]
  },
  {
   "cell_type": "code",
   "execution_count": 6,
   "metadata": {},
   "outputs": [
    {
     "name": "stdout",
     "output_type": "stream",
     "text": [
      "15.299999999999994\n"
     ]
    }
   ],
   "source": [
    "# A custom IQR function\n",
    "def iqr(column):\n",
    "    return column.quantile(0.75) - column.quantile(0.25)\n",
    "    \n",
    "# Print IQR of the temperature_c column\n",
    "print(sales['temperature_c'].agg(iqr))"
   ]
  },
  {
   "cell_type": "code",
   "execution_count": 7,
   "metadata": {},
   "outputs": [
    {
     "name": "stdout",
     "output_type": "stream",
     "text": [
      "temperature_c           15.300000\n",
      "fuel_price_usd_per_l     0.211866\n",
      "unemployment             1.672000\n",
      "dtype: float64\n"
     ]
    }
   ],
   "source": [
    "# A custom IQR function\n",
    "def iqr(column):\n",
    "    return column.quantile(0.75) - column.quantile(0.25)\n",
    "\n",
    "# Update to print IQR of temperature_c, fuel_price_usd_per_l, & unemployment\n",
    "print(sales[[\"temperature_c\", \"fuel_price_usd_per_l\", \"unemployment\"]].agg(iqr))"
   ]
  },
  {
   "cell_type": "code",
   "execution_count": 8,
   "metadata": {},
   "outputs": [
    {
     "name": "stdout",
     "output_type": "stream",
     "text": [
      "        temperature_c  fuel_price_usd_per_l  unemployment\n",
      "iqr             15.30              0.211866         1.672\n",
      "median          16.75              0.911922         7.852\n"
     ]
    }
   ],
   "source": [
    "# Import NumPy and create custom IQR function\n",
    "import numpy as np\n",
    "def iqr(column):\n",
    "    return column.quantile(0.75) - column.quantile(0.25)\n",
    "\n",
    "# Update to print IQR and median of temperature_c, fuel_price_usd_per_l, & unemployment\n",
    "print(sales[[\"temperature_c\", \"fuel_price_usd_per_l\", \"unemployment\"]].agg([iqr, np.median]))"
   ]
  },
  {
   "cell_type": "markdown",
   "metadata": {},
   "source": [
    "## Cumulative statistics\n",
    "\n",
    "Cumulative statistics can also be helpful in tracking summary statistics over time. In this exercise, you'll calculate the cumulative sum and cumulative max of a department's weekly sales, which will allow you to identify what the total sales were so far as well as what the highest weekly sales were so far.\n",
    "\n",
    "A DataFrame called sales_1_1 has been created for you, which contains the sales data for department 1 of store 1. pandas is loaded as pd.\n",
    "\n",
    "### Instructions\n",
    "\n",
    "- Sort the rows of sales_1_1 by the date column in ascending order.\n",
    "- Get the cumulative sum of weekly_sales and add it as a new column of sales_1_1 called cum_weekly_sales.\n",
    "- Get the cumulative maximum of weekly_sales, and add it as a column called cum_max_sales.\n",
    "- Print the date, weekly_sales, cum_weekly_sales, and cum_max_sales columns."
   ]
  },
  {
   "cell_type": "code",
   "execution_count": 9,
   "metadata": {},
   "outputs": [],
   "source": [
    "sales_1_1 = sales[sales[\"department\"] == 1]"
   ]
  },
  {
   "cell_type": "code",
   "execution_count": 10,
   "metadata": {},
   "outputs": [
    {
     "data": {
      "text/html": [
       "<div>\n",
       "<style scoped>\n",
       "    .dataframe tbody tr th:only-of-type {\n",
       "        vertical-align: middle;\n",
       "    }\n",
       "\n",
       "    .dataframe tbody tr th {\n",
       "        vertical-align: top;\n",
       "    }\n",
       "\n",
       "    .dataframe thead th {\n",
       "        text-align: right;\n",
       "    }\n",
       "</style>\n",
       "<table border=\"1\" class=\"dataframe\">\n",
       "  <thead>\n",
       "    <tr style=\"text-align: right;\">\n",
       "      <th></th>\n",
       "      <th>store</th>\n",
       "      <th>type</th>\n",
       "      <th>department</th>\n",
       "      <th>date</th>\n",
       "      <th>weekly_sales</th>\n",
       "      <th>is_holiday</th>\n",
       "      <th>temperature_c</th>\n",
       "      <th>fuel_price_usd_per_l</th>\n",
       "      <th>unemployment</th>\n",
       "    </tr>\n",
       "  </thead>\n",
       "  <tbody>\n",
       "    <tr>\n",
       "      <th>0</th>\n",
       "      <td>1</td>\n",
       "      <td>A</td>\n",
       "      <td>1</td>\n",
       "      <td>2010-02-05</td>\n",
       "      <td>24924.50</td>\n",
       "      <td>False</td>\n",
       "      <td>5.727778</td>\n",
       "      <td>0.679451</td>\n",
       "      <td>8.106</td>\n",
       "    </tr>\n",
       "    <tr>\n",
       "      <th>73</th>\n",
       "      <td>1</td>\n",
       "      <td>A</td>\n",
       "      <td>1</td>\n",
       "      <td>2010-02-12</td>\n",
       "      <td>46039.49</td>\n",
       "      <td>True</td>\n",
       "      <td>3.616667</td>\n",
       "      <td>0.673111</td>\n",
       "      <td>8.106</td>\n",
       "    </tr>\n",
       "    <tr>\n",
       "      <th>145</th>\n",
       "      <td>1</td>\n",
       "      <td>A</td>\n",
       "      <td>1</td>\n",
       "      <td>2010-02-19</td>\n",
       "      <td>41595.55</td>\n",
       "      <td>False</td>\n",
       "      <td>4.405556</td>\n",
       "      <td>0.664129</td>\n",
       "      <td>8.106</td>\n",
       "    </tr>\n",
       "    <tr>\n",
       "      <th>218</th>\n",
       "      <td>1</td>\n",
       "      <td>A</td>\n",
       "      <td>1</td>\n",
       "      <td>2010-02-26</td>\n",
       "      <td>19403.54</td>\n",
       "      <td>False</td>\n",
       "      <td>8.127778</td>\n",
       "      <td>0.676545</td>\n",
       "      <td>8.106</td>\n",
       "    </tr>\n",
       "    <tr>\n",
       "      <th>290</th>\n",
       "      <td>1</td>\n",
       "      <td>A</td>\n",
       "      <td>1</td>\n",
       "      <td>2010-03-05</td>\n",
       "      <td>21827.90</td>\n",
       "      <td>False</td>\n",
       "      <td>8.055556</td>\n",
       "      <td>0.693452</td>\n",
       "      <td>8.106</td>\n",
       "    </tr>\n",
       "  </tbody>\n",
       "</table>\n",
       "</div>"
      ],
      "text/plain": [
       "     store type  department       date  weekly_sales  is_holiday  \\\n",
       "0        1    A           1 2010-02-05      24924.50       False   \n",
       "73       1    A           1 2010-02-12      46039.49        True   \n",
       "145      1    A           1 2010-02-19      41595.55       False   \n",
       "218      1    A           1 2010-02-26      19403.54       False   \n",
       "290      1    A           1 2010-03-05      21827.90       False   \n",
       "\n",
       "     temperature_c  fuel_price_usd_per_l  unemployment  \n",
       "0         5.727778              0.679451         8.106  \n",
       "73        3.616667              0.673111         8.106  \n",
       "145       4.405556              0.664129         8.106  \n",
       "218       8.127778              0.676545         8.106  \n",
       "290       8.055556              0.693452         8.106  "
      ]
     },
     "execution_count": 10,
     "metadata": {},
     "output_type": "execute_result"
    }
   ],
   "source": [
    "sales_1_1.head()"
   ]
  },
  {
   "cell_type": "code",
   "execution_count": 11,
   "metadata": {},
   "outputs": [
    {
     "name": "stdout",
     "output_type": "stream",
     "text": [
      "             date  weekly_sales  cum_weekly_sales  cum_max_sales\n",
      "0      2010-02-05      24924.50      2.492450e+04       24924.50\n",
      "87524  2010-02-05      40212.84      6.513734e+04       40212.84\n",
      "346509 2010-02-05      11283.23      7.642057e+04       40212.84\n",
      "157464 2010-02-05      20304.23      9.672480e+04       40212.84\n",
      "286548 2010-02-05      10158.77      1.068836e+05       40212.84\n",
      "237097 2010-02-05      17778.48      1.246620e+05       40212.84\n",
      "207131 2010-02-05      20686.31      1.453484e+05       40212.84\n",
      "216819 2010-02-05      32452.79      1.778011e+05       40212.84\n",
      "226869 2010-02-05      17309.89      1.951110e+05       40212.84\n",
      "177187 2010-02-05      21500.58      2.166116e+05       40212.84\n",
      "197549 2010-02-05      15501.96      2.321136e+05       40212.84\n",
      "246901 2010-02-05      22926.65      2.550402e+05       40212.84\n",
      "361077 2010-02-05      21244.50      2.762847e+05       40212.84\n",
      "68762  2010-02-05      16181.89      2.924666e+05       40212.84\n",
      "303846 2010-02-05      22675.43      3.151420e+05       40212.84\n",
      "138120 2010-02-05      12239.38      3.273814e+05       40212.84\n",
      "320535 2010-02-05      20347.48      3.477289e+05       40212.84\n",
      "117606 2010-02-05      46761.90      3.944908e+05       46761.90\n",
      "353715 2010-02-05       6732.38      4.012232e+05       46761.90\n",
      "78657  2010-02-05      12861.40      4.140846e+05       46761.90\n",
      "10244  2010-02-05      35034.06      4.491187e+05       46761.90\n",
      "411933 2010-02-05      18628.11      4.677468e+05       46761.90\n",
      "187335 2010-02-05      46021.21      5.137680e+05       46761.90\n",
      "256755 2010-02-05      32313.79      5.460818e+05       46761.90\n",
      "380972 2010-02-05      16971.05      5.630528e+05       46761.90\n",
      "29518  2010-02-05      38724.42      6.017772e+05       46761.90\n",
      "293704 2010-02-05      18187.71      6.199649e+05       46761.90\n",
      "148021 2010-02-05      12786.85      6.327518e+05       46761.90\n",
      "97839  2010-02-05      19611.13      6.523629e+05       46761.90\n",
      "340287 2010-02-05       2144.48      6.545074e+05       46761.90\n",
      "...           ...           ...               ...            ...\n",
      "390988 2012-10-26      39498.10      1.228511e+08      172225.55\n",
      "320491 2012-10-26       3210.15      1.228543e+08      172225.55\n",
      "117538 2012-10-26      25883.95      1.228802e+08      172225.55\n",
      "293655 2012-10-26      12863.85      1.228931e+08      172225.55\n",
      "147952 2012-10-26      21677.69      1.229147e+08      172225.55\n",
      "187263 2012-10-26      33686.67      1.229484e+08      172225.55\n",
      "256686 2012-10-26      23949.13      1.229724e+08      172225.55\n",
      "10172  2012-10-26      27390.81      1.229998e+08      172225.55\n",
      "411878 2012-10-26      13117.60      1.230129e+08      172225.55\n",
      "361023 2012-10-26       9241.43      1.230221e+08      172225.55\n",
      "68694  2012-10-26      10983.79      1.230331e+08      172225.55\n",
      "78587  2012-10-26      21737.93      1.230549e+08      172225.55\n",
      "353663 2012-10-26      16728.53      1.230716e+08      172225.55\n",
      "330689 2012-10-26      25051.36      1.230966e+08      172225.55\n",
      "266909 2012-10-26      52612.95      1.231492e+08      172225.55\n",
      "216750 2012-10-26      38973.00      1.231882e+08      172225.55\n",
      "226800 2012-10-26      57391.58      1.232456e+08      172225.55\n",
      "397961 2012-10-26      13237.19      1.232588e+08      172225.55\n",
      "340220 2012-10-26      25693.46      1.232845e+08      172225.55\n",
      "97767  2012-10-26      58409.83      1.233430e+08      172225.55\n",
      "29454  2012-10-26      11351.24      1.233543e+08      172225.55\n",
      "286483 2012-10-26      22637.67      1.233769e+08      172225.55\n",
      "303776 2012-10-26      22652.14      1.233996e+08      172225.55\n",
      "138052 2012-10-26      48143.51      1.234477e+08      172225.55\n",
      "197478 2012-10-26      55623.24      1.235034e+08      172225.55\n",
      "246833 2012-10-26      35637.21      1.235390e+08      172225.55\n",
      "48727  2012-10-26      12774.47      1.235518e+08      172225.55\n",
      "380901 2012-10-26      24689.25      1.235765e+08      172225.55\n",
      "177118 2012-10-26      35198.50      1.236117e+08      172225.55\n",
      "413111 2012-10-26      27117.16      1.236388e+08      172225.55\n",
      "\n",
      "[6435 rows x 4 columns]\n"
     ]
    }
   ],
   "source": [
    "# Sort sales_1_1 by date\n",
    "sales_1_1 = sales_1_1.sort_values(\"date\")\n",
    "\n",
    "# Get the cumulative sum of weekly_sales, add as cum_weekly_sales col\n",
    "sales_1_1[\"cum_weekly_sales\"] = sales_1_1[\"weekly_sales\"].cumsum()\n",
    "\n",
    "# Get the cumulative max of weekly_sales, add as cum_max_sales col\n",
    "sales_1_1[\"cum_max_sales\"] = sales_1_1[\"weekly_sales\"].cummax()\n",
    "\n",
    "# See the columns you calculated\n",
    "print(sales_1_1[[\"date\", \"weekly_sales\", \"cum_weekly_sales\", \"cum_max_sales\"]])"
   ]
  },
  {
   "cell_type": "markdown",
   "metadata": {},
   "source": [
    "## Dropping duplicates\n",
    "\n",
    "Removing duplicates is an essential skill to get accurate counts, because often you don't want to count the same thing multiple times. In this exercise, you'll create some new DataFrames using unique values from sales.\n",
    "\n",
    "sales is available and pandas is imported as pd.\n",
    "\n",
    "### Instructions\n",
    "\n",
    "- Remove rows of sales with duplicate pairs of store and type and save as store_types and print the head.\n",
    "- Remove rows of sales with duplicate pairs of store and department and save as store_depts and print the head.\n",
    "- Subset the rows that are holiday weeks, and drop the duplicate dates, saving as holiday_dates.\n",
    "- Select the date column of holiday_dates, and print."
   ]
  },
  {
   "cell_type": "code",
   "execution_count": 12,
   "metadata": {},
   "outputs": [
    {
     "name": "stdout",
     "output_type": "stream",
     "text": [
      "       store type  department       date  weekly_sales  is_holiday  \\\n",
      "0          1    A           1 2010-02-05      24924.50       False   \n",
      "10244      2    A           1 2010-02-05      35034.06       False   \n",
      "20482      3    B           1 2010-02-05       6453.58       False   \n",
      "29518      4    A           1 2010-02-05      38724.42       False   \n",
      "39790      5    B           1 2010-02-05       9323.89       False   \n",
      "\n",
      "       temperature_c  fuel_price_usd_per_l  unemployment  \n",
      "0           5.727778              0.679451         8.106  \n",
      "10244       4.550000              0.679451         8.324  \n",
      "20482       7.616667              0.679451         7.368  \n",
      "29518       6.533333              0.686319         8.623  \n",
      "39790       4.277778              0.679451         6.566  \n",
      "   store type  department       date  weekly_sales  is_holiday  temperature_c  \\\n",
      "0      1    A           1 2010-02-05      24924.50       False       5.727778   \n",
      "1      1    A           2 2010-02-05      50605.27       False       5.727778   \n",
      "2      1    A           3 2010-02-05      13740.12       False       5.727778   \n",
      "3      1    A           4 2010-02-05      39954.04       False       5.727778   \n",
      "4      1    A           5 2010-02-05      32229.38       False       5.727778   \n",
      "\n",
      "   fuel_price_usd_per_l  unemployment  \n",
      "0              0.679451         8.106  \n",
      "1              0.679451         8.106  \n",
      "2              0.679451         8.106  \n",
      "3              0.679451         8.106  \n",
      "4              0.679451         8.106  \n",
      "73     2010-02-12\n",
      "2218   2010-09-10\n",
      "3014   2010-11-26\n",
      "3372   2010-12-31\n",
      "3800   2011-02-11\n",
      "5940   2011-09-09\n",
      "6731   2011-11-25\n",
      "7096   2011-12-30\n",
      "7527   2012-02-10\n",
      "9667   2012-09-07\n",
      "Name: date, dtype: datetime64[ns]\n"
     ]
    }
   ],
   "source": [
    "# Drop duplicate store/type combinations\n",
    "store_types = sales.drop_duplicates(subset=[\"store\", \"type\"])\n",
    "print(store_types.head())\n",
    "\n",
    "# Drop duplicate store/department combinations\n",
    "store_depts = sales.drop_duplicates(subset=[\"store\", \"department\"])\n",
    "print(store_depts.head())\n",
    "\n",
    "# Subset the rows that are holiday weeks and drop duplicate dates\n",
    "holiday_dates = sales[sales[\"is_holiday\"]].drop_duplicates(subset=\"date\")\n",
    "\n",
    "# Print date col of holiday_dates\n",
    "print(holiday_dates[\"date\"])"
   ]
  },
  {
   "cell_type": "markdown",
   "metadata": {},
   "source": [
    "## Counting categorical variables\n",
    "\n",
    "Counting is a great way to get an overview of your data and to spot curiosities that you might not notice otherwise. In this exercise, you'll count the number of each type of store and the number of each type of department.\n",
    "\n",
    "The stores and departments DataFrames you created in the last exercise are available and pandas is imported as pd.\n",
    "\n",
    "### Instructions\n",
    "\n",
    "- Count the number of stores of each type.\n",
    "- Count the proportion of stores of each type.\n",
    "- Count the number of departments of each type, sorting the counts in descending order.\n",
    "- Count the proportion of departments of each type, sorting the proportions in descending order."
   ]
  },
  {
   "cell_type": "code",
   "execution_count": 13,
   "metadata": {},
   "outputs": [],
   "source": [
    "stores = sales.drop_duplicates(subset=[\"store\", \"type\"])"
   ]
  },
  {
   "cell_type": "code",
   "execution_count": 14,
   "metadata": {},
   "outputs": [
    {
     "data": {
      "text/html": [
       "<div>\n",
       "<style scoped>\n",
       "    .dataframe tbody tr th:only-of-type {\n",
       "        vertical-align: middle;\n",
       "    }\n",
       "\n",
       "    .dataframe tbody tr th {\n",
       "        vertical-align: top;\n",
       "    }\n",
       "\n",
       "    .dataframe thead th {\n",
       "        text-align: right;\n",
       "    }\n",
       "</style>\n",
       "<table border=\"1\" class=\"dataframe\">\n",
       "  <thead>\n",
       "    <tr style=\"text-align: right;\">\n",
       "      <th></th>\n",
       "      <th>store</th>\n",
       "      <th>type</th>\n",
       "      <th>department</th>\n",
       "      <th>date</th>\n",
       "      <th>weekly_sales</th>\n",
       "      <th>is_holiday</th>\n",
       "      <th>temperature_c</th>\n",
       "      <th>fuel_price_usd_per_l</th>\n",
       "      <th>unemployment</th>\n",
       "    </tr>\n",
       "  </thead>\n",
       "  <tbody>\n",
       "    <tr>\n",
       "      <th>0</th>\n",
       "      <td>1</td>\n",
       "      <td>A</td>\n",
       "      <td>1</td>\n",
       "      <td>2010-02-05</td>\n",
       "      <td>24924.50</td>\n",
       "      <td>False</td>\n",
       "      <td>5.727778</td>\n",
       "      <td>0.679451</td>\n",
       "      <td>8.106</td>\n",
       "    </tr>\n",
       "    <tr>\n",
       "      <th>10244</th>\n",
       "      <td>2</td>\n",
       "      <td>A</td>\n",
       "      <td>1</td>\n",
       "      <td>2010-02-05</td>\n",
       "      <td>35034.06</td>\n",
       "      <td>False</td>\n",
       "      <td>4.550000</td>\n",
       "      <td>0.679451</td>\n",
       "      <td>8.324</td>\n",
       "    </tr>\n",
       "    <tr>\n",
       "      <th>20482</th>\n",
       "      <td>3</td>\n",
       "      <td>B</td>\n",
       "      <td>1</td>\n",
       "      <td>2010-02-05</td>\n",
       "      <td>6453.58</td>\n",
       "      <td>False</td>\n",
       "      <td>7.616667</td>\n",
       "      <td>0.679451</td>\n",
       "      <td>7.368</td>\n",
       "    </tr>\n",
       "    <tr>\n",
       "      <th>29518</th>\n",
       "      <td>4</td>\n",
       "      <td>A</td>\n",
       "      <td>1</td>\n",
       "      <td>2010-02-05</td>\n",
       "      <td>38724.42</td>\n",
       "      <td>False</td>\n",
       "      <td>6.533333</td>\n",
       "      <td>0.686319</td>\n",
       "      <td>8.623</td>\n",
       "    </tr>\n",
       "    <tr>\n",
       "      <th>39790</th>\n",
       "      <td>5</td>\n",
       "      <td>B</td>\n",
       "      <td>1</td>\n",
       "      <td>2010-02-05</td>\n",
       "      <td>9323.89</td>\n",
       "      <td>False</td>\n",
       "      <td>4.277778</td>\n",
       "      <td>0.679451</td>\n",
       "      <td>6.566</td>\n",
       "    </tr>\n",
       "  </tbody>\n",
       "</table>\n",
       "</div>"
      ],
      "text/plain": [
       "       store type  department       date  weekly_sales  is_holiday  \\\n",
       "0          1    A           1 2010-02-05      24924.50       False   \n",
       "10244      2    A           1 2010-02-05      35034.06       False   \n",
       "20482      3    B           1 2010-02-05       6453.58       False   \n",
       "29518      4    A           1 2010-02-05      38724.42       False   \n",
       "39790      5    B           1 2010-02-05       9323.89       False   \n",
       "\n",
       "       temperature_c  fuel_price_usd_per_l  unemployment  \n",
       "0           5.727778              0.679451         8.106  \n",
       "10244       4.550000              0.679451         8.324  \n",
       "20482       7.616667              0.679451         7.368  \n",
       "29518       6.533333              0.686319         8.623  \n",
       "39790       4.277778              0.679451         6.566  "
      ]
     },
     "execution_count": 14,
     "metadata": {},
     "output_type": "execute_result"
    }
   ],
   "source": [
    "stores.head()"
   ]
  },
  {
   "cell_type": "code",
   "execution_count": 15,
   "metadata": {},
   "outputs": [
    {
     "data": {
      "text/html": [
       "<div>\n",
       "<style scoped>\n",
       "    .dataframe tbody tr th:only-of-type {\n",
       "        vertical-align: middle;\n",
       "    }\n",
       "\n",
       "    .dataframe tbody tr th {\n",
       "        vertical-align: top;\n",
       "    }\n",
       "\n",
       "    .dataframe thead th {\n",
       "        text-align: right;\n",
       "    }\n",
       "</style>\n",
       "<table border=\"1\" class=\"dataframe\">\n",
       "  <thead>\n",
       "    <tr style=\"text-align: right;\">\n",
       "      <th></th>\n",
       "      <th>store</th>\n",
       "      <th>type</th>\n",
       "      <th>department</th>\n",
       "      <th>date</th>\n",
       "      <th>weekly_sales</th>\n",
       "      <th>is_holiday</th>\n",
       "      <th>temperature_c</th>\n",
       "      <th>fuel_price_usd_per_l</th>\n",
       "      <th>unemployment</th>\n",
       "    </tr>\n",
       "  </thead>\n",
       "  <tbody>\n",
       "    <tr>\n",
       "      <th>0</th>\n",
       "      <td>1</td>\n",
       "      <td>A</td>\n",
       "      <td>1</td>\n",
       "      <td>2010-02-05</td>\n",
       "      <td>24924.50</td>\n",
       "      <td>False</td>\n",
       "      <td>5.727778</td>\n",
       "      <td>0.679451</td>\n",
       "      <td>8.106</td>\n",
       "    </tr>\n",
       "    <tr>\n",
       "      <th>1</th>\n",
       "      <td>1</td>\n",
       "      <td>A</td>\n",
       "      <td>2</td>\n",
       "      <td>2010-02-05</td>\n",
       "      <td>50605.27</td>\n",
       "      <td>False</td>\n",
       "      <td>5.727778</td>\n",
       "      <td>0.679451</td>\n",
       "      <td>8.106</td>\n",
       "    </tr>\n",
       "    <tr>\n",
       "      <th>2</th>\n",
       "      <td>1</td>\n",
       "      <td>A</td>\n",
       "      <td>3</td>\n",
       "      <td>2010-02-05</td>\n",
       "      <td>13740.12</td>\n",
       "      <td>False</td>\n",
       "      <td>5.727778</td>\n",
       "      <td>0.679451</td>\n",
       "      <td>8.106</td>\n",
       "    </tr>\n",
       "    <tr>\n",
       "      <th>3</th>\n",
       "      <td>1</td>\n",
       "      <td>A</td>\n",
       "      <td>4</td>\n",
       "      <td>2010-02-05</td>\n",
       "      <td>39954.04</td>\n",
       "      <td>False</td>\n",
       "      <td>5.727778</td>\n",
       "      <td>0.679451</td>\n",
       "      <td>8.106</td>\n",
       "    </tr>\n",
       "    <tr>\n",
       "      <th>4</th>\n",
       "      <td>1</td>\n",
       "      <td>A</td>\n",
       "      <td>5</td>\n",
       "      <td>2010-02-05</td>\n",
       "      <td>32229.38</td>\n",
       "      <td>False</td>\n",
       "      <td>5.727778</td>\n",
       "      <td>0.679451</td>\n",
       "      <td>8.106</td>\n",
       "    </tr>\n",
       "  </tbody>\n",
       "</table>\n",
       "</div>"
      ],
      "text/plain": [
       "   store type  department       date  weekly_sales  is_holiday  temperature_c  \\\n",
       "0      1    A           1 2010-02-05      24924.50       False       5.727778   \n",
       "1      1    A           2 2010-02-05      50605.27       False       5.727778   \n",
       "2      1    A           3 2010-02-05      13740.12       False       5.727778   \n",
       "3      1    A           4 2010-02-05      39954.04       False       5.727778   \n",
       "4      1    A           5 2010-02-05      32229.38       False       5.727778   \n",
       "\n",
       "   fuel_price_usd_per_l  unemployment  \n",
       "0              0.679451         8.106  \n",
       "1              0.679451         8.106  \n",
       "2              0.679451         8.106  \n",
       "3              0.679451         8.106  \n",
       "4              0.679451         8.106  "
      ]
     },
     "execution_count": 15,
     "metadata": {},
     "output_type": "execute_result"
    }
   ],
   "source": [
    "departments = sales.drop_duplicates(subset=[\"store\", \"department\"])\n",
    "departments.head()"
   ]
  },
  {
   "cell_type": "code",
   "execution_count": 16,
   "metadata": {},
   "outputs": [
    {
     "name": "stdout",
     "output_type": "stream",
     "text": [
      "A    22\n",
      "B    17\n",
      "C     6\n",
      "Name: type, dtype: int64\n",
      "A    0.488889\n",
      "B    0.377778\n",
      "C    0.133333\n",
      "Name: type, dtype: float64\n",
      "1     45\n",
      "9     45\n",
      "4     45\n",
      "6     45\n",
      "8     45\n",
      "3     45\n",
      "5     45\n",
      "7     45\n",
      "2     45\n",
      "79    44\n",
      "97    44\n",
      "96    44\n",
      "94    44\n",
      "92    44\n",
      "82    44\n",
      "80    44\n",
      "74    44\n",
      "72    44\n",
      "60    44\n",
      "56    44\n",
      "52    44\n",
      "46    44\n",
      "44    44\n",
      "42    44\n",
      "40    44\n",
      "38    44\n",
      "32    44\n",
      "26    44\n",
      "24    44\n",
      "22    44\n",
      "      ..\n",
      "81    44\n",
      "13    44\n",
      "11    44\n",
      "27    43\n",
      "85    43\n",
      "28    42\n",
      "71    42\n",
      "93    42\n",
      "83    42\n",
      "34    42\n",
      "41    41\n",
      "29    39\n",
      "35    38\n",
      "36    38\n",
      "19    37\n",
      "99    37\n",
      "30    36\n",
      "78    36\n",
      "45    36\n",
      "47    36\n",
      "77    36\n",
      "51    36\n",
      "54    36\n",
      "58    33\n",
      "48    25\n",
      "37    20\n",
      "50    14\n",
      "43     5\n",
      "39     5\n",
      "65     1\n",
      "Name: department, Length: 81, dtype: int64\n",
      "1     0.013778\n",
      "9     0.013778\n",
      "4     0.013778\n",
      "6     0.013778\n",
      "8     0.013778\n",
      "3     0.013778\n",
      "5     0.013778\n",
      "7     0.013778\n",
      "2     0.013778\n",
      "79    0.013472\n",
      "97    0.013472\n",
      "96    0.013472\n",
      "94    0.013472\n",
      "92    0.013472\n",
      "82    0.013472\n",
      "80    0.013472\n",
      "74    0.013472\n",
      "72    0.013472\n",
      "60    0.013472\n",
      "56    0.013472\n",
      "52    0.013472\n",
      "46    0.013472\n",
      "44    0.013472\n",
      "42    0.013472\n",
      "40    0.013472\n",
      "38    0.013472\n",
      "32    0.013472\n",
      "26    0.013472\n",
      "24    0.013472\n",
      "22    0.013472\n",
      "        ...   \n",
      "81    0.013472\n",
      "13    0.013472\n",
      "11    0.013472\n",
      "27    0.013166\n",
      "85    0.013166\n",
      "28    0.012860\n",
      "71    0.012860\n",
      "93    0.012860\n",
      "83    0.012860\n",
      "34    0.012860\n",
      "41    0.012554\n",
      "29    0.011941\n",
      "35    0.011635\n",
      "36    0.011635\n",
      "19    0.011329\n",
      "99    0.011329\n",
      "30    0.011023\n",
      "78    0.011023\n",
      "45    0.011023\n",
      "47    0.011023\n",
      "77    0.011023\n",
      "51    0.011023\n",
      "54    0.011023\n",
      "58    0.010104\n",
      "48    0.007655\n",
      "37    0.006124\n",
      "50    0.004287\n",
      "43    0.001531\n",
      "39    0.001531\n",
      "65    0.000306\n",
      "Name: department, Length: 81, dtype: float64\n"
     ]
    }
   ],
   "source": [
    "# Count the number of stores of each type\n",
    "store_counts = stores[\"type\"].value_counts()\n",
    "print(store_counts)\n",
    "\n",
    "# Get the proportion of stores of each type\n",
    "store_props = stores[\"type\"].value_counts(normalize=True)\n",
    "print(store_props)\n",
    "\n",
    "# Count the number of departments of each type and sort\n",
    "dept_counts_sorted = departments[\"department\"].value_counts(sort=True)\n",
    "print(dept_counts_sorted)\n",
    "\n",
    "# Get the proportion of departments of each type and sort\n",
    "dept_props_sorted = departments[\"department\"].value_counts(sort=True, normalize=True)\n",
    "print(dept_props_sorted)"
   ]
  },
  {
   "cell_type": "markdown",
   "metadata": {},
   "source": [
    "## What percent of sales occurred at each store type?\n",
    "\n",
    "While .groupby() is useful, you can calculate grouped summary statistics without it.\n",
    "\n",
    "Walmart distinguishes three types of stores: \"supercenters\", \"discount stores\", and \"neighborhood markets\", encoded in this dataset as type \"A\", \"B\", and \"C\". In this exercise, you'll calculate the total sales made at each store type, without using .groupby(). You can then use these numbers to see what proportion of Walmart's total sales were made at each.\n",
    "\n",
    "sales is available and pandas is imported as pd.\n",
    "\n",
    "### Instructions\n",
    "\n",
    "- Calculate the total weekly sales over the whole dataset.\n",
    "- Subset for type \"A\" stores, and calculate their total weekly sales.\n",
    "- Do the same for type \"B\" and type \"C\" stores.\n",
    "- Combine the A/B/C results into a list, and divide by overall sales to get the proportion of sales by type."
   ]
  },
  {
   "cell_type": "code",
   "execution_count": 17,
   "metadata": {},
   "outputs": [
    {
     "name": "stdout",
     "output_type": "stream",
     "text": [
      "[0.65137469 0.28763851 0.0609868 ]\n"
     ]
    }
   ],
   "source": [
    "# Calc total weekly sales\n",
    "sales_all = sales[\"weekly_sales\"].sum()\n",
    "\n",
    "# Subset for type A stores, calc total weekly sales\n",
    "sales_A = sales[sales[\"type\"] == \"A\"][\"weekly_sales\"].sum()\n",
    "\n",
    "# Subset for type B stores, calc total weekly sales\n",
    "sales_B = sales[sales[\"type\"] == \"B\"][\"weekly_sales\"].sum()\n",
    "\n",
    "# Subset for type C stores, calc total weekly sales\n",
    "sales_C = sales[sales[\"type\"] == \"C\"][\"weekly_sales\"].sum()\n",
    "\n",
    "# Get proportion for each type\n",
    "sales_propn_by_type = [sales_A, sales_B, sales_C] / sales_all\n",
    "print(sales_propn_by_type)"
   ]
  },
  {
   "cell_type": "markdown",
   "metadata": {},
   "source": [
    "## Calculations with .groupby()\n",
    "\n",
    "The .groupby() method makes life much easier. In this exercise, you'll perform the same calculations as last time, except you'll use the .groupby() method. You'll also perform calculations on data grouped by two variables to see if sales differs by store type depending on if it's a holiday week or not.\n",
    "\n",
    "sales is available and pandas is loaded as pd.\n",
    "\n",
    "Instructions\n",
    "\n",
    "- Group sales by \"type\", take the sum of \"weekly_sales\", and store as sales_by_type.\n",
    "- Calculate the proportion of sales at each store type by dividing by the sum of sales_by_type. Assign to sales_propn_by_type."
   ]
  },
  {
   "cell_type": "code",
   "execution_count": 18,
   "metadata": {},
   "outputs": [
    {
     "name": "stdout",
     "output_type": "stream",
     "text": [
      "type\n",
      "A    0.651375\n",
      "B    0.287639\n",
      "C    0.060987\n",
      "Name: weekly_sales, dtype: float64\n"
     ]
    }
   ],
   "source": [
    "# Group by type; calc total weekly sales\n",
    "sales_by_type = sales.groupby(\"type\")[\"weekly_sales\"].sum()\n",
    "\n",
    "# Get proportion for each type\n",
    "sales_propn_by_type = sales_by_type / sum(sales_by_type)\n",
    "print(sales_propn_by_type)"
   ]
  },
  {
   "cell_type": "code",
   "execution_count": 19,
   "metadata": {},
   "outputs": [
    {
     "name": "stdout",
     "output_type": "stream",
     "text": [
      "type  is_holiday\n",
      "A     False         4.007612e+09\n",
      "      True          3.234028e+08\n",
      "B     False         1.765411e+09\n",
      "      True          1.471081e+08\n",
      "C     False         3.772478e+08\n",
      "      True          2.825570e+07\n",
      "Name: weekly_sales, dtype: float64\n"
     ]
    }
   ],
   "source": [
    "# From previous step\n",
    "sales_by_type = sales.groupby(\"type\")[\"weekly_sales\"].sum()\n",
    "\n",
    "# Group by type and is_holiday; calc total weekly sales\n",
    "sales_by_type_is_holiday = sales.groupby([\"type\", \"is_holiday\"])[\"weekly_sales\"].sum()\n",
    "print(sales_by_type_is_holiday)"
   ]
  },
  {
   "cell_type": "markdown",
   "metadata": {},
   "source": [
    "## Multiple grouped summaries\n",
    "\n",
    "Earlier in this chapter you saw that the .agg() method is useful to compute multiple statistics on multiple variables. It also works with grouped data. NumPy, which is imported as np, has many different summary statistics functions, including:\n",
    "\n",
    "np.min()\n",
    "np.max()\n",
    "np.mean()\n",
    "np.median()\n",
    "sales is available and pandas is imported as pd.\n",
    "\n",
    "### Instructions\n",
    "- Import NumPy with the alias np.\n",
    "- Get the min, max, mean, and median of weekly_sales for each store type using .groupby() and .agg(). Store this as sales_stats.\n",
    "- Get the min, max, mean, and median of unemployment and fuel_price_usd_per_l for each store type. Store this as unemp_fuel_stats."
   ]
  },
  {
   "cell_type": "code",
   "execution_count": 20,
   "metadata": {},
   "outputs": [
    {
     "name": "stdout",
     "output_type": "stream",
     "text": [
      "         amin       amax          mean    median\n",
      "type                                            \n",
      "A    -4988.94  474330.10  20099.568043  10105.17\n",
      "B    -3924.00  693099.36  12335.331875   6269.02\n",
      "C     -379.00  112152.35   9519.532538   1149.67\n",
      "     unemployment                          fuel_price_usd_per_l            \\\n",
      "             amin    amax      mean median                 amin      amax   \n",
      "type                                                                        \n",
      "A           3.879  14.313  7.791595  7.818             0.653034  1.180321   \n",
      "B           4.125  14.313  7.889666  7.806             0.664129  1.180321   \n",
      "C           5.217  14.313  8.934350  8.300             0.664129  1.180321   \n",
      "\n",
      "                          \n",
      "          mean    median  \n",
      "type                      \n",
      "A     0.883391  0.902676  \n",
      "B     0.892997  0.922225  \n",
      "C     0.888848  0.902676  \n"
     ]
    }
   ],
   "source": [
    "# Import NumPy with the alias np\n",
    "import numpy as np\n",
    "\n",
    "# For each store type, aggregate weekly_sales: get min, max, mean, and median\n",
    "sales_stats = sales.groupby(\"type\")[\"weekly_sales\"].agg([np.min, np.max, np.mean, np.median])\n",
    "\n",
    "# Print sales_stats\n",
    "print(sales_stats)\n",
    "\n",
    "# For each store type, aggregate unemployment and fuel_price_usd_per_l: get min, max, mean, and median\n",
    "unemp_fuel_stats = sales.groupby(\"type\")[[\"unemployment\", \"fuel_price_usd_per_l\"]].agg([np.min, np.max, np.mean, np.median])\n",
    "\n",
    "# Print unemp_fuel_stats\n",
    "print(unemp_fuel_stats)"
   ]
  },
  {
   "cell_type": "markdown",
   "metadata": {},
   "source": [
    "## Pivoting on one variable\n",
    "\n",
    "Pivot tables are the standard way of aggregating data in spreadsheets. In pandas, pivot tables are essentially just another way of performing grouped calculations. That is, the .pivot_table() method is just an alternative to .groupby().\n",
    "\n",
    "In this exercise, you'll perform calculations using .pivot_table() to replicate the calculations you performed in the last lesson using .groupby().\n",
    "\n",
    "sales is available and pandas is imported as pd.\n",
    "\n",
    "### Instructions\n",
    "- 1 Get the mean weekly_sales by type using .pivot_table() and store as mean_sales_by_type.\n",
    "\n",
    "- 2 Get the mean and median (using NumPy functions) of weekly_sales by type using .pivot_table() and store as mean_med_sales_by_type.\n",
    "\n",
    "- 3 Get the mean of weekly_sales by type and is_holiday using .pivot_table() and store as mean_sales_by_type_holiday."
   ]
  },
  {
   "cell_type": "code",
   "execution_count": 21,
   "metadata": {},
   "outputs": [
    {
     "name": "stdout",
     "output_type": "stream",
     "text": [
      "      weekly_sales\n",
      "type              \n",
      "A     20099.568043\n",
      "B     12335.331875\n",
      "C      9519.532538\n"
     ]
    }
   ],
   "source": [
    "# Pivot for mean weekly_sales for each store type\n",
    "mean_sales_by_type = sales.pivot_table(values=\"weekly_sales\", index=\"type\")\n",
    "\n",
    "# Print mean_sales_by_type\n",
    "print(mean_sales_by_type)"
   ]
  },
  {
   "cell_type": "code",
   "execution_count": 22,
   "metadata": {},
   "outputs": [
    {
     "name": "stdout",
     "output_type": "stream",
     "text": [
      "              mean       median\n",
      "      weekly_sales weekly_sales\n",
      "type                           \n",
      "A     20099.568043     10105.17\n",
      "B     12335.331875      6269.02\n",
      "C      9519.532538      1149.67\n"
     ]
    }
   ],
   "source": [
    "# Import NumPy as np\n",
    "import numpy as np\n",
    "\n",
    "# Pivot for mean and median weekly_sales for each store type\n",
    "mean_med_sales_by_type = sales.pivot_table(values=\"weekly_sales\", index=\"type\", aggfunc=[np.mean, np.median])\n",
    "\n",
    "# Print mean_med_sales_by_type\n",
    "print(mean_med_sales_by_type)"
   ]
  },
  {
   "cell_type": "code",
   "execution_count": 23,
   "metadata": {},
   "outputs": [
    {
     "name": "stdout",
     "output_type": "stream",
     "text": [
      "is_holiday         False         True \n",
      "type                                  \n",
      "A           20008.746759  21297.517824\n",
      "B           12248.741339  13478.844240\n",
      "C            9518.528116   9532.963131\n"
     ]
    }
   ],
   "source": [
    "# Pivot for mean weekly_sales by store type and holiday \n",
    "mean_sales_by_type_holiday = sales.pivot_table(values=\"weekly_sales\", index=\"type\", columns=\"is_holiday\")\n",
    "\n",
    "# Print mean_sales_by_type_holiday\n",
    "print(mean_sales_by_type_holiday)"
   ]
  },
  {
   "cell_type": "markdown",
   "metadata": {},
   "source": [
    "## Fill in missing values and sum values with pivot tables\n",
    "\n",
    "The .pivot_table() method has several useful arguments, including fill_value and margins.\n",
    "\n",
    "fill_value replaces missing values with a real value (known as imputation). What to replace missing values with is a topic big enough to have its own course (Dealing with Missing Data in Python), but the simplest thing to do is to substitute a dummy value.\n",
    "margins is a shortcut for when you pivoted by two variables, but also wanted to pivot by each of those variables separately: it gives the row and column totals of the pivot table contents.\n",
    "In this exercise, you'll practice using these arguments to up your pivot table skills, which will help you crunch numbers more efficiently!\n",
    "\n",
    "sales is available and pandas is imported as pd.\n",
    "\n",
    "### Instructions\n",
    "\n",
    "- 1 Print the mean weekly_sales by department and type, filling in any missing values with 0.\n",
    "- 2 Print the mean weekly_sales by department and type, filling in any missing values with 0 and summing all rows and columns."
   ]
  },
  {
   "cell_type": "code",
   "execution_count": 24,
   "metadata": {},
   "outputs": [
    {
     "name": "stdout",
     "output_type": "stream",
     "text": [
      "type                    A             B             C\n",
      "department                                           \n",
      "1            22956.887886  17990.876158   8951.733462\n",
      "2            51994.674873  43051.996919  14424.851713\n",
      "3            13881.033137  12965.414311    820.276818\n",
      "4            32973.814075  21259.895804  13669.370396\n",
      "5            26803.448045  21184.602916    767.600774\n",
      "6             5585.277707   5006.859317     36.554462\n",
      "7            30786.372028  23915.734587    564.668497\n",
      "8            37091.220995  27578.908420  12293.092203\n",
      "9            24025.109521  22768.012421    114.774217\n",
      "10           23757.932155  17845.169969    335.823648\n",
      "11           17151.349774  15984.101018    911.421981\n",
      "12            5174.752237   4377.377190     95.283007\n",
      "13           37420.957308  28186.873413  13062.763089\n",
      "14           17738.801214  16198.735398   1213.951166\n",
      "16           18370.779237  13184.059344   1558.514825\n",
      "17           11863.174768  11432.410927    402.521257\n",
      "18            8917.798155   7249.215388    479.583689\n",
      "19            1551.746753   1811.704773      2.380000\n",
      "20            6058.751242   5934.213169     50.106515\n",
      "21            6538.843617   4260.831062   1356.520186\n",
      "22           11695.248192  10508.500415     71.500305\n",
      "23           25841.932408  26211.838488     33.323108\n",
      "24            6522.886158   6433.927032      9.676279\n",
      "25           10427.966998  10431.099091     57.635602\n",
      "26            8179.438916   7484.569532     29.543827\n",
      "27            1730.614921   1638.840966     19.715688\n",
      "28             705.489549    699.362823     89.811128\n",
      "29            5799.549360   5566.953724     13.208125\n",
      "30            4232.884210   4043.370179      0.000000\n",
      "31            2607.435351   2673.711993     58.397514\n",
      "...                   ...           ...           ...\n",
      "54             110.556674    108.420791      0.000000\n",
      "55           11896.852021   9669.764983      6.359298\n",
      "56            4730.669172   3573.183357    270.415964\n",
      "58            4825.832931   2139.246621      0.000000\n",
      "59             853.317015    697.790859    100.742155\n",
      "60             391.007951    231.250462    506.437619\n",
      "65           45441.706224      0.000000      0.000000\n",
      "67            9564.837562   6835.229939   1373.246853\n",
      "71            5986.634322   5516.217784    -32.353125\n",
      "72           62046.661710  53220.954414    121.518523\n",
      "74           16048.781395  15898.857762    450.627691\n",
      "77             344.824713    323.973818      0.000000\n",
      "78               8.160224      5.733763      0.000000\n",
      "79           28729.636221  17978.179628   8973.187984\n",
      "80           19571.861551    410.466488  10964.069545\n",
      "81           22508.216891   6947.059244  12530.203601\n",
      "82           19939.560207  13049.427753   5873.628147\n",
      "83            5147.099517    778.152862   2689.759009\n",
      "85            2739.924958   2408.371364     95.117480\n",
      "87           17786.945277  12627.824274    539.506091\n",
      "90           70550.502168  12368.083287  43628.231072\n",
      "91           53734.139097   8338.731355  30623.882494\n",
      "92          112156.881662  31491.707710  60795.759371\n",
      "93           43296.564971   1503.127752  23826.284965\n",
      "94           51067.047111   1045.368843  31636.174895\n",
      "95           97094.026043  40580.306862  50641.564872\n",
      "96           19900.943552   4752.674874  15766.025431\n",
      "97           22093.807101   3543.243304  13419.542809\n",
      "98           10979.816195    299.951644   5479.758054\n",
      "99             431.443064     25.716667      8.330952\n",
      "\n",
      "[81 rows x 3 columns]\n"
     ]
    }
   ],
   "source": [
    "# Print mean weekly_sales by department and type; fill missing values with 0\n",
    "print(sales.pivot_table(values=\"weekly_sales\", index=\"department\", columns=\"type\", fill_value=0))"
   ]
  },
  {
   "cell_type": "code",
   "execution_count": 25,
   "metadata": {},
   "outputs": [
    {
     "name": "stdout",
     "output_type": "stream",
     "text": [
      "type                    A             B             C           All\n",
      "department                                                         \n",
      "1            22956.887886  17990.876158   8951.733462  19213.485088\n",
      "2            51994.674873  43051.996919  14424.851713  43607.020113\n",
      "3            13881.033137  12965.414311    820.276818  11793.698516\n",
      "4            32973.814075  21259.895804  13669.370396  25974.630238\n",
      "5            26803.448045  21184.602916    767.600774  21365.583515\n",
      "6             5585.277707   5006.859317     36.554462   4747.856188\n",
      "7            30786.372028  23915.734587    564.668497  24161.237413\n",
      "8            37091.220995  27578.908420  12293.092203  30191.263517\n",
      "9            24025.109521  22768.012421    114.774217  20283.500171\n",
      "10           23757.932155  17845.169969    335.823648  18413.912928\n",
      "11           17151.349774  15984.101018    911.421981  14511.940587\n",
      "12            5174.752237   4377.377190     95.283007   4188.065562\n",
      "13           37420.957308  28186.873413  13062.763089  30741.536680\n",
      "14           17738.801214  16198.735398   1213.951166  14925.388638\n",
      "16           18370.779237  13184.059344   1558.514825  14192.117765\n",
      "17           11863.174768  11432.410927    402.521257  10179.455937\n",
      "18            8917.798155   7249.215388    479.583689   7361.933345\n",
      "19            1551.746753   1811.704773      2.380000   1665.056016\n",
      "20            6058.751242   5934.213169     50.106515   5538.979299\n",
      "21            6538.843617   4260.831062   1356.520186   5003.794948\n",
      "22           11695.248192  10508.500415     71.500305  10839.401235\n",
      "23           25841.932408  26211.838488     33.323108  23957.244534\n",
      "24            6522.886158   6433.927032      9.676279   6377.783644\n",
      "25           10427.966998  10431.099091     57.635602   9001.551427\n",
      "26            8179.438916   7484.569532     29.543827   7659.398860\n",
      "27            1730.614921   1638.840966     19.715688   1590.103077\n",
      "28             705.489549    699.362823     89.811128    617.397579\n",
      "29            5799.549360   5566.953724     13.208125   5678.588997\n",
      "30            4232.884210   4043.370179      0.000000   4148.655752\n",
      "31            2607.435351   2673.711993     58.397514   2331.830096\n",
      "...                   ...           ...           ...           ...\n",
      "55           11896.852021   9669.764983      6.359298  10838.107618\n",
      "56            4730.669172   3573.183357    270.415964   3838.737204\n",
      "58            4825.832931   2139.246621      0.000000   3767.250934\n",
      "59             853.317015    697.790859    100.742155    696.710057\n",
      "60             391.007951    231.250462    506.437619    351.697950\n",
      "65           45441.706224      0.000000      0.000000  45441.706224\n",
      "67            9564.837562   6835.229939   1373.246853   7455.217875\n",
      "71            5986.634322   5516.217784    -32.353125   5759.646936\n",
      "72           62046.661710  53220.954414    121.518523  50883.867544\n",
      "74           16048.781395  15898.857762    450.627691  13877.912876\n",
      "77             344.824713    323.973818      0.000000    336.748662\n",
      "78               8.160224      5.733763      0.000000      7.166123\n",
      "79           28729.636221  17978.179628   8973.187984  22125.954518\n",
      "80           19571.861551    410.466488  10964.069545  12446.005508\n",
      "81           22508.216891   6947.059244  12530.203601  15488.975935\n",
      "82           19939.560207  13049.427753   5873.628147  15515.975852\n",
      "83            5147.099517    778.152862   2689.759009   3446.819688\n",
      "85            2739.924958   2408.371364     95.117480   2270.720303\n",
      "87           17786.945277  12627.824274    539.506091  13581.652330\n",
      "90           70550.502168  12368.083287  43628.231072  45722.040153\n",
      "91           53734.139097   8338.731355  30623.882494  34075.319472\n",
      "92          112156.881662  31491.707710  60795.759371  75820.301731\n",
      "93           43296.564971   1503.127752  23826.284965  27609.786744\n",
      "94           51067.047111   1045.368843  31636.174895  34123.212731\n",
      "95           97094.026043  40580.306862  50641.564872  70209.156181\n",
      "96           19900.943552   4752.674874  15766.025431  15217.211505\n",
      "97           22093.807101   3543.243304  13419.542809  14437.120839\n",
      "98           10979.816195    299.951644   5479.758054   6973.013875\n",
      "99             431.443064     25.716667      8.330952    415.487065\n",
      "All          20099.568043  12335.331875   9519.532538  16094.726811\n",
      "\n",
      "[82 rows x 4 columns]\n"
     ]
    }
   ],
   "source": [
    "# Print the mean weekly_sales by department and type; fill missing values with 0s; sum all rows and cols\n",
    "print(sales.pivot_table(values=\"weekly_sales\", index=\"department\", columns=\"type\", fill_value=0, margins=True))"
   ]
  },
  {
   "cell_type": "code",
   "execution_count": null,
   "metadata": {},
   "outputs": [],
   "source": []
  }
 ],
 "metadata": {
  "kernelspec": {
   "display_name": "Python 3",
   "language": "python",
   "name": "python3"
  },
  "language_info": {
   "codemirror_mode": {
    "name": "ipython",
    "version": 3
   },
   "file_extension": ".py",
   "mimetype": "text/x-python",
   "name": "python",
   "nbconvert_exporter": "python",
   "pygments_lexer": "ipython3",
   "version": "3.7.3"
  }
 },
 "nbformat": 4,
 "nbformat_minor": 2
}
